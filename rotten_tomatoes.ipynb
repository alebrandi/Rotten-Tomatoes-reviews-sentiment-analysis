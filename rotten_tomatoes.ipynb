{
 "cells": [
  {
   "cell_type": "code",
   "execution_count": 1,
   "metadata": {},
   "outputs": [
    {
     "name": "stderr",
     "output_type": "stream",
     "text": [
      "/usr/lib/python3/dist-packages/requests/__init__.py:89: RequestsDependencyWarning: urllib3 (1.26.9) or chardet (3.0.4) doesn't match a supported version!\n",
      "  warnings.warn(\"urllib3 ({}) or chardet ({}) doesn't match a supported \"\n"
     ]
    }
   ],
   "source": [
    "from selenium import webdriver\n",
    "from webdriver_manager.chrome import ChromeDriverManager\n",
    "from selenium.webdriver.chrome.options import Options\n",
    "from bs4 import BeautifulSoup\n",
    "from time import sleep\n",
    "import pandas as pd\n",
    "import matplotlib.pyplot as plt\n",
    "%matplotlib inline\n",
    "import seaborn as sns\n",
    "import nltk\n",
    "from nltk.corpus import stopwords\n",
    "import datetime as dt"
   ]
  },
  {
   "cell_type": "code",
   "execution_count": 13,
   "metadata": {
    "scrolled": true
   },
   "outputs": [],
   "source": [
    "def parser(browser,df):    \n",
    "    \n",
    "    soup = BeautifulSoup(browser.page_source)\n",
    "    reviews = soup.find('div', attrs = {'class':'review_table'}).findAll('li')\n",
    "\n",
    "    for r in reviews:\n",
    "        try:\n",
    "            user = r.find('span',{'data-qa':'review-name'}).text\n",
    "        except:  ##if the user deleted his profile we will get an error\n",
    "            user = 'DELETED USER'\n",
    "        stars = r.find('span', attrs = {'class': 'star-display'})\n",
    "        full_stars = len(stars.findAll('span', attrs = {'class':'star-display__filled'}))\n",
    "        half_stars = len(stars.findAll('span', attrs = {'class':'star-display__half'}))\n",
    "        review_text = r.find('p',attrs = {'data-qa':'review-text'}).text\n",
    "        date = r.find('span',{'data-qa':'review-duration'}).text\n",
    "\n",
    "        star_number = full_stars + half_stars*0.5\n",
    "\n",
    "        row = [user,date,review_text,star_number]  #creating row of the dataframe\n",
    "        df.loc[-1] = row\n",
    "        df.index = df1.index + 1  # shifting index\n",
    "        df = df1.sort_index()  # sorting by index\n",
    "        \n",
    "    return df   "
   ]
  },
  {
   "cell_type": "code",
   "execution_count": 15,
   "metadata": {
    "scrolled": false
   },
   "outputs": [
    {
     "name": "stderr",
     "output_type": "stream",
     "text": [
      "\n",
      "\n",
      "====== WebDriver manager ======\n",
      "Current google-chrome version is 100.0.4896\n",
      "Get LATEST chromedriver version for 100.0.4896 google-chrome\n",
      "Driver [/home/ale/.wdm/drivers/chromedriver/linux64/100.0.4896.60/chromedriver] found in cache\n",
      "<ipython-input-15-c8511481d835>:4: DeprecationWarning: executable_path has been deprecated, please pass in a Service object\n",
      "  browser = webdriver.Chrome(ChromeDriverManager().install(), options=options)\n"
     ]
    },
    {
     "name": "stdout",
     "output_type": "stream",
     "text": [
      "Parsing through pages....\n",
      "\n"
     ]
    },
    {
     "name": "stderr",
     "output_type": "stream",
     "text": [
      "<ipython-input-15-c8511481d835>:16: DeprecationWarning: find_element_by_xpath is deprecated. Please use find_element(by=By.XPATH, value=xpath) instead\n",
      "  next_button = browser.find_element_by_xpath('.//button[@data-direction = \"next\"]')\n"
     ]
    },
    {
     "name": "stdout",
     "output_type": "stream",
     "text": [
      "Parsed through 1864 pages\n"
     ]
    }
   ],
   "source": [
    "options = Options()\n",
    "options.add_argument(\"--headless\") ##run the browser in background - delete \n",
    "                                   ##delete this line if you want to watch what the browser is doing\n",
    "browser = webdriver.Chrome(ChromeDriverManager().install(), options=options)\n",
    "url = 'https://www.rottentomatoes.com/m/star_wars_the_rise_of_skywalker/reviews?type=verified_audience&intcmp=rt-scorecard_audience-score-reviews'\n",
    "browser.get(url)\n",
    "\n",
    "df = pd.DataFrame(columns = ['user','date','review','stars']) ## creating empty dataframe\n",
    "n = 0  ##number of pages \n",
    "\n",
    "print('Parsing through pages....\\n')\n",
    "while True:\n",
    "    \n",
    "    df1 = parser(browser,df)\n",
    "    try:\n",
    "        next_button = browser.find_element_by_xpath('.//button[@data-direction = \"next\"]')\n",
    "        next_button.click()   ##go to next page\n",
    "        sleep(2)\n",
    "        browser.implicitly_wait(60)\n",
    "        n+=1\n",
    "        \n",
    "    except Exception as e:\n",
    "        break\n",
    "        \n",
    "print('Parsed through {} pages'.format(n))    \n",
    "browser.close()"
   ]
  },
  {
   "cell_type": "code",
   "execution_count": 236,
   "metadata": {},
   "outputs": [],
   "source": [
    "df = pd.read_csv('reviews.csv', index_col= [0])\n",
    "df.drop_duplicates(inplace = True)  ## there are a few duplicates in the dataframe"
   ]
  },
  {
   "cell_type": "code",
   "execution_count": 237,
   "metadata": {},
   "outputs": [
    {
     "data": {
      "text/html": [
       "<div>\n",
       "<style scoped>\n",
       "    .dataframe tbody tr th:only-of-type {\n",
       "        vertical-align: middle;\n",
       "    }\n",
       "\n",
       "    .dataframe tbody tr th {\n",
       "        vertical-align: top;\n",
       "    }\n",
       "\n",
       "    .dataframe thead th {\n",
       "        text-align: right;\n",
       "    }\n",
       "</style>\n",
       "<table border=\"1\" class=\"dataframe\">\n",
       "  <thead>\n",
       "    <tr style=\"text-align: right;\">\n",
       "      <th></th>\n",
       "      <th>user</th>\n",
       "      <th>date</th>\n",
       "      <th>review</th>\n",
       "      <th>stars</th>\n",
       "    </tr>\n",
       "  </thead>\n",
       "  <tbody>\n",
       "    <tr>\n",
       "      <th>0</th>\n",
       "      <td>Lachelle C</td>\n",
       "      <td>2019-12-24</td>\n",
       "      <td>Like able characters and action packed. Whats ...</td>\n",
       "      <td>5.0</td>\n",
       "    </tr>\n",
       "    <tr>\n",
       "      <th>1</th>\n",
       "      <td>Angie</td>\n",
       "      <td>2019-12-24</td>\n",
       "      <td>1st Star Wars movie I’ve seen.   Story was goo...</td>\n",
       "      <td>3.0</td>\n",
       "    </tr>\n",
       "    <tr>\n",
       "      <th>2</th>\n",
       "      <td>Dwayne</td>\n",
       "      <td>2019-12-24</td>\n",
       "      <td>Story was horrible. The director J.J. Abrams d...</td>\n",
       "      <td>1.0</td>\n",
       "    </tr>\n",
       "    <tr>\n",
       "      <th>3</th>\n",
       "      <td>Chris</td>\n",
       "      <td>2019-12-24</td>\n",
       "      <td>The movie didn’t have a Star Wars vibe. The mo...</td>\n",
       "      <td>2.5</td>\n",
       "    </tr>\n",
       "    <tr>\n",
       "      <th>4</th>\n",
       "      <td>Maria</td>\n",
       "      <td>2019-12-24</td>\n",
       "      <td>Ben solo and Rey should’ve ended up together :(</td>\n",
       "      <td>4.5</td>\n",
       "    </tr>\n",
       "  </tbody>\n",
       "</table>\n",
       "</div>"
      ],
      "text/plain": [
       "         user       date                                             review  \\\n",
       "0  Lachelle C 2019-12-24  Like able characters and action packed. Whats ...   \n",
       "1       Angie 2019-12-24  1st Star Wars movie I’ve seen.   Story was goo...   \n",
       "2      Dwayne 2019-12-24  Story was horrible. The director J.J. Abrams d...   \n",
       "3       Chris 2019-12-24  The movie didn’t have a Star Wars vibe. The mo...   \n",
       "4       Maria 2019-12-24    Ben solo and Rey should’ve ended up together :(   \n",
       "\n",
       "   stars  \n",
       "0    5.0  \n",
       "1    3.0  \n",
       "2    1.0  \n",
       "3    2.5  \n",
       "4    4.5  "
      ]
     },
     "execution_count": 237,
     "metadata": {},
     "output_type": "execute_result"
    }
   ],
   "source": [
    "df['date'] = pd.to_datetime(df[\"date\"])  ## converting the 'date' column into datetime\n",
    "df.head()"
   ]
  },
  {
   "cell_type": "code",
   "execution_count": 238,
   "metadata": {},
   "outputs": [],
   "source": [
    "df['conv_stars'] = ['BAD' if value <=2 else 'NEUTRAL' if value <=3.5 else 'GOOD' for value in df['stars']]"
   ]
  },
  {
   "cell_type": "markdown",
   "metadata": {},
   "source": [
    "Converted the number of stars into 3 categories: good reviews (4-5 stars), neutral reviews (2.5-3.5 stars), bad reviews (0.5-2 stars)"
   ]
  },
  {
   "cell_type": "code",
   "execution_count": 239,
   "metadata": {},
   "outputs": [
    {
     "data": {
      "image/png": "[encoded data removed]",
      "text/plain": [
       "<Figure size 1152x360 with 2 Axes>"
      ]
     },
     "metadata": {
      "needs_background": "light"
     },
     "output_type": "display_data"
    }
   ],
   "source": [
    "fig, axs = plt.subplots(ncols=2, figsize=(16,5))\n",
    "sns.countplot(x='stars', data = df, ax=axs[0])\n",
    "sns.countplot(x = 'conv_stars',data = df, ax=axs[1])\n",
    "plt.show()"
   ]
  },
  {
   "cell_type": "markdown",
   "metadata": {},
   "source": [
    "As we can see from this graph, it seems like most people rated highly the movie. Most users rated the movie 5 stars out of 5."
   ]
  },
  {
   "cell_type": "code",
   "execution_count": 235,
   "metadata": {},
   "outputs": [],
   "source": [
    "df = pd.read_csv('reviews.csv', index_col= [0])\n",
    "df.drop_duplicates(inplace = True)  ## there are a few duplicates in the dataframe"
   ]
  },
  {
   "cell_type": "markdown",
   "metadata": {},
   "source": [
    "## SENTIMENT ANALYSIS WITH VADER"
   ]
  },
  {
   "cell_type": "code",
   "execution_count": 240,
   "metadata": {
    "scrolled": true
   },
   "outputs": [
    {
     "name": "stderr",
     "output_type": "stream",
     "text": [
      "[nltk_data] Downloading package vader_lexicon to\n",
      "[nltk_data]     /home/ale/nltk_data...\n",
      "[nltk_data]   Package vader_lexicon is already up-to-date!\n"
     ]
    },
    {
     "data": {
      "text/plain": [
       "True"
      ]
     },
     "execution_count": 240,
     "metadata": {},
     "output_type": "execute_result"
    }
   ],
   "source": [
    "from nltk.sentiment.vader import SentimentIntensityAnalyzer\n",
    "nltk.download('vader_lexicon')"
   ]
  },
  {
   "cell_type": "code",
   "execution_count": 241,
   "metadata": {},
   "outputs": [],
   "source": [
    "sent = SentimentIntensityAnalyzer()   ##using the VADER compound method to get a more direct result\n",
    "df['sentiment_score'] = [round(sent.polarity_scores(i)['compound'], 2) for i in df['review']] "
   ]
  },
  {
   "cell_type": "code",
   "execution_count": 242,
   "metadata": {},
   "outputs": [],
   "source": [
    "df['conv_sentiment'] = ['BAD' if value <=-0.33 else 'GOOD' if value >= 0.33 else 'NEUTRAL' for value in df['sentiment_score'] ]"
   ]
  },
  {
   "cell_type": "code",
   "execution_count": 298,
   "metadata": {
    "scrolled": false
   },
   "outputs": [
    {
     "data": {
      "image/png": "[encoded data removed]",
      "text/plain": [
       "<Figure size 1152x360 with 2 Axes>"
      ]
     },
     "metadata": {
      "needs_background": "light"
     },
     "output_type": "display_data"
    }
   ],
   "source": [
    "fig, axs = plt.subplots(ncols=2, figsize=(16,5))\n",
    "sns.countplot(x='conv_sentiment', data = df, ax=axs[0],order = ['GOOD','NEUTRAL','BAD']).set(title = 'PREDICTED SENTIMENT')\n",
    "sns.countplot(x = 'conv_stars',data = df, ax=axs[1]).set(title = 'REAL SENTIMENT')\n",
    "plt.show()"
   ]
  },
  {
   "cell_type": "markdown",
   "metadata": {},
   "source": [
    "As we can see from this countplot, it looks like VADER had a high rate of correct predictions. \n",
    "The graph, however, shows that VADER tends to overestimate NEUTRAL and BAD reviews and underestimate GOOD ones"
   ]
  },
  {
   "cell_type": "code",
   "execution_count": 262,
   "metadata": {
    "scrolled": true
   },
   "outputs": [
    {
     "name": "stdout",
     "output_type": "stream",
     "text": [
      "SUCCESSFUL PREDICTION RATE --- > 0.6776344086021505\n"
     ]
    }
   ],
   "source": [
    "correct_predictions = df.loc[(df['conv_stars'] == df['conv_sentiment'])].shape[0]\n",
    "total_rows = df.shape[0] \n",
    "\n",
    "print('SUCCESSFUL PREDICTION RATE --- > {}'.format(correct_predictions/total_rows))"
   ]
  },
  {
   "cell_type": "markdown",
   "metadata": {},
   "source": [
    "VADER had a successful prediction rate of almost 70%!"
   ]
  }
 ],
 "metadata": {
  "kernelspec": {
   "display_name": "Python 3",
   "language": "python",
   "name": "python3"
  },
  "language_info": {
   "codemirror_mode": {
    "name": "ipython",
    "version": 3
   },
   "file_extension": ".py",
   "mimetype": "text/x-python",
   "name": "python",
   "nbconvert_exporter": "python",
   "pygments_lexer": "ipython3",
   "version": "3.8.10"
  }
 },
 "nbformat": 4,
 "nbformat_minor": 4
}
